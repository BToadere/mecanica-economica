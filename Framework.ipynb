{
 "cells": [
  {
   "cell_type": "markdown",
   "metadata": {},
   "source": [
    "# Pasos inicales, configuracion del entorno"
   ]
  },
  {
   "cell_type": "code",
   "execution_count": null,
   "metadata": {},
   "outputs": [],
   "source": [
    "%pip install -r requirements.txt"
   ]
  },
  {
   "cell_type": "markdown",
   "metadata": {},
   "source": [
    "# Analisis Series Temporales"
   ]
  },
  {
   "cell_type": "markdown",
   "metadata": {},
   "source": [
    "## Importacion de Datos\n",
    "De momento hay que pegar el excel con los datos en la carpeta `data/`\n",
    "\n",
    "TODO:\n",
    "- Pendiente gestion de los paths entre windows y linux"
   ]
  },
  {
   "cell_type": "code",
   "execution_count": null,
   "metadata": {},
   "outputs": [],
   "source": [
    "import src.importacion as importar\n",
    "ruta_archivo_a_importar = r\"C:\\Users\\bogdan.stefan\\Downloads\\ppt_traspaso.pptx\"\n",
    "importar.copiar_archivo(ruta_archivo_a_importar)"
   ]
  },
  {
   "cell_type": "markdown",
   "metadata": {},
   "source": [
    "## Uso modelo"
   ]
  },
  {
   "cell_type": "markdown",
   "metadata": {},
   "source": [
    "### Calculo tablas\n"
   ]
  },
  {
   "cell_type": "code",
   "execution_count": null,
   "metadata": {},
   "outputs": [],
   "source": [
    "import src.analisis_modelizacion as modelo\n",
    "import numpy as np\n",
    "import os\n",
    "\n",
    "# Parametros a cumplimentar\n",
    "ruta_del_archivo = './data/Datos_Fase1.xlsx'\n",
    "hoja_excel = 'datos_it4 (fecha)'\n",
    "os.environ['nombre_evento'] = hoja_excel\n",
    "cantidad_datos = 200\n",
    "\n",
    "val_p=calibre_nodos = 0.002     # Valor para discriminar NODOS  (val_p)\n",
    "grupo_volatilidad = 20          # Valor a agrupar volatilidad \n",
    "grupo_entropia = 25             # Valor a agrupar la entropia\n",
    "\n",
    "val_agrupacion = 25             # Valor para agrupar los datos en paquetes\n",
    "ind_agrupacion = 0              # 0 indica que val_r es el num de elementos de cada subgrupo, \n",
    "                                # 1 indica que val_r es el num de subgrupos. \n",
    "\n",
    "\n",
    "# Instanciamos los datos como eventos\n",
    "eve = modelo.evento(data_or_path=ruta_del_archivo, \n",
    "                    hoja=hoja_excel, \n",
    "                    numero_registros=cantidad_datos)\n",
    "# print(\"evento:\\n\", eve)\n",
    "\n",
    "# # Generamos la Serie X del evento se puede hacer de dos formas:\n",
    "# #     1. Con la ruta del excel    \n",
    "# tabla_1 = modelo.serie_x(data_or_path=ruta_del_archivo, \n",
    "#                          hoja=hoja_excel, \n",
    "#                          numero_registros=cantidad_datos, \n",
    "#                          val_p=calibre_nodos)\n",
    "\n",
    "# #     2. Con el evento\n",
    "tabla_1 = modelo.serie_x(data_or_path=eve, \n",
    "                         numero_registros=cantidad_datos, \n",
    "                         val_p=calibre_nodos)\n",
    "\n",
    "tabla_1.volatilidad('value', grupo_volatilidad)\n",
    "# print('serie_x:\\n', tabla_1)\n",
    "# Metodo para calcular la Serie Y\n",
    "tabla_2 = tabla_1.nodos()\n",
    "# print('serie_y:\\n', tabla_2)\n",
    "\n",
    "entropia = tabla_1.entropia_shannon(nombre_columna='value', grupo=grupo_entropia)\n",
    "masa = entropia/np.sum(entropia)\n",
    "# print('entropia:', entropia_tabla1)\n",
    "\n",
    "# # Generamos la Serie Z del evento, al igual qeu la Serie X sepuede hacer de dos formas:\n",
    "tabla_3 = modelo.serie_z(data_or_path=eve, \n",
    "                         numero_registros=cantidad_datos, \n",
    "                         val_p=calibre_nodos, \n",
    "                         val_r=val_agrupacion, \n",
    "                         boton=ind_agrupacion)\n",
    "# # Creamos en la tabla_3 la columna entropia y le asignamos el valor calculado.\n",
    "tabla_3['entropy'] = entropia\n",
    "tabla_3['mass'] = masa\n",
    "print('serie_z:\\n', tabla_3, type(tabla_3))\n",
    "\n",
    "# Exportamos la tabla_3 a .csv por comodidad, no es necesario\n",
    "tabla_3.to_csv('temp/tablas/serie_z.csv')\n",
    "\n"
   ]
  },
  {
   "cell_type": "code",
   "execution_count": null,
   "metadata": {},
   "outputs": [],
   "source": [
    "print(np.sum(masa))"
   ]
  },
  {
   "cell_type": "markdown",
   "metadata": {},
   "source": [
    "### Graficar resultados"
   ]
  },
  {
   "cell_type": "code",
   "execution_count": null,
   "metadata": {},
   "outputs": [],
   "source": [
    "from src.graphic_generator import pinta\n",
    "\n",
    "# pinta([tabla_1, tabla_3],[['value'],['viscosity', 'viscosity ABE']])\n",
    "pinta([tabla_1],[['value']])\n",
    "pinta([tabla_1],[['volatility_20']])\n",
    "pinta([tabla_3],[['density']])\n",
    "pinta([tabla_3],[['pressure']])\n",
    "pinta([tabla_3],[['subs visco']])\n",
    "pinta([tabla_3],[['velocity']])\n",
    "pinta([tabla_3],[['viscosity', 'viscosity ABE']])\n",
    "pinta(tablas=[tabla_3],columnas=[['mass']])"
   ]
  }
 ],
 "metadata": {
  "kernelspec": {
   "display_name": ".venv",
   "language": "python",
   "name": "python3"
  },
  "language_info": {
   "codemirror_mode": {
    "name": "ipython",
    "version": 3
   },
   "file_extension": ".py",
   "mimetype": "text/x-python",
   "name": "python",
   "nbconvert_exporter": "python",
   "pygments_lexer": "ipython3",
   "version": "3.10.12"
  }
 },
 "nbformat": 4,
 "nbformat_minor": 2
}
