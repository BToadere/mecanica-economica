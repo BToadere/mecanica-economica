{
 "cells": [
  {
   "cell_type": "markdown",
   "metadata": {},
   "source": [
    "# Pasos inicales, configuracion del entorno"
   ]
  },
  {
   "cell_type": "code",
   "execution_count": null,
   "metadata": {},
   "outputs": [],
   "source": [
    "# %pip install -r requirements.txt"
   ]
  },
  {
   "cell_type": "markdown",
   "metadata": {},
   "source": [
    "# Analisis UNA Serie Temporal"
   ]
  },
  {
   "cell_type": "markdown",
   "metadata": {},
   "source": [
    "## Importacion de Datos\n",
    "De momento hay que pegar el excel con los datos en la carpeta `data/`\n",
    "\n",
    "TODO:\n",
    "- Pendiente gestion de los paths entre windows y linux"
   ]
  },
  {
   "cell_type": "code",
   "execution_count": 1,
   "metadata": {},
   "outputs": [],
   "source": [
    "# import src.importacion as importar\n",
    "# ruta_archivo_a_importar = r\"C:\\Users\\bogdan.stefan\\Downloads\\ppt_traspaso.pptx\"\n",
    "# importar.copiar_archivo(ruta_archivo_a_importar)"
   ]
  },
  {
   "cell_type": "markdown",
   "metadata": {},
   "source": [
    "## Uso modelo"
   ]
  },
  {
   "cell_type": "markdown",
   "metadata": {},
   "source": [
    "### Calculo tablas\n",
    " Analisis de una unica serie"
   ]
  },
  {
   "cell_type": "code",
   "execution_count": 3,
   "metadata": {},
   "outputs": [
    {
     "name": "stdout",
     "output_type": "stream",
     "text": [
      "entropia: [15.314748376397953]\n",
      "serie_z:\n",
      "         time  range   density  dif density  dif values  velocity   dif vel  \\\n",
      "0 2023-01-25     25  0.739130          NaN         NaN       NaN       NaN   \n",
      "1 2023-02-19     50  0.913043     0.173913    0.146929  0.134152       NaN   \n",
      "2 2023-03-16     75  0.739130    -0.173913   -0.141964 -0.104930 -0.239082   \n",
      "3 2023-04-10    100  0.826087     0.086957    0.078067  0.064490  0.169420   \n",
      "4 2023-05-05    125  0.826087     0.000000   -0.003140 -0.002594 -0.067084   \n",
      "5 2023-05-30    150  0.782609    -0.043478   -0.054645 -0.042765 -0.040172   \n",
      "6 2023-06-24    175  0.956522     0.173913    0.150036  0.143513  0.186278   \n",
      "7 2023-07-19    200  1.000000     0.043478    0.036646  0.036646 -0.106867   \n",
      "\n",
      "   pressure  dif pressure  viscosity  viscosity ABE  subs visco   entropy  \\\n",
      "0       NaN           NaN        NaN            NaN         NaN  3.365482   \n",
      "1 -0.016432           NaN        NaN            NaN         NaN  3.805302   \n",
      "2 -0.008138      0.008294        NaN            NaN         NaN  4.693557   \n",
      "3 -0.003436      0.004702  -0.000585      -0.000844   -0.000259  4.328938   \n",
      "4 -0.000006      0.003430  -0.022047      -0.021423    0.000625  4.463134   \n",
      "5 -0.001431     -0.001426  -0.000255      -0.000005    0.000250  4.777374   \n",
      "6 -0.019701     -0.018269  -0.000014       0.000035    0.000049  3.742512   \n",
      "7 -0.001343      0.018358        NaN       0.026427         NaN  3.889119   \n",
      "\n",
      "       mass  \n",
      "0  0.101783  \n",
      "1  0.115084  \n",
      "2  0.141948  \n",
      "3  0.130920  \n",
      "4  0.134979  \n",
      "5  0.144482  \n",
      "6  0.113185  \n",
      "7  0.117619   <class 'src.analisis_modelizacion.serie_z'>\n"
     ]
    }
   ],
   "source": [
    "import src.analisis_modelizacion as modelo\n",
    "import numpy as np\n",
    "import os\n",
    "\n",
    "# Parametros a cumplimentar\n",
    "ruta_del_archivo = './data/Datos_Fase1.xlsx'\n",
    "hoja_excel = 'datos_it4 (fecha)'\n",
    "os.environ['nombre_evento'] = hoja_excel\n",
    "cantidad_datos = 200\n",
    "\n",
    "calibre_nodos = 0.002           # Valor para discriminar NODOS  (val_p)\n",
    "grupo_volatilidad = 20          # Valor a agrupar volatilidad \n",
    "grupo_entropia = 25             # Valor a agrupar la entropia\n",
    "\n",
    "val_agrupacion = 25             # Valor para agrupar los datos en paquetes\n",
    "ind_agrupacion = 0              # 0 indica que val_r es el num de elementos de cada subgrupo, \n",
    "                                # 1 indica que val_r es el num de subgrupos. \n",
    "\n",
    "\n",
    "# Instanciamos los datos como eventos\n",
    "eve = modelo.evento(data_or_path=ruta_del_archivo, \n",
    "                    hoja=hoja_excel, \n",
    "                    numero_registros=cantidad_datos)\n",
    "# print(\"evento:\\n\", eve)\n",
    "\n",
    "# # Generamos la Serie X del evento se puede hacer de dos formas:\n",
    "# #     1. Con la ruta del excel    \n",
    "# tabla_1 = modelo.serie_x(data_or_path=ruta_del_archivo, \n",
    "#                          hoja=hoja_excel, \n",
    "#                          numero_registros=cantidad_datos, \n",
    "#                          val_p=calibre_nodos)\n",
    "\n",
    "# #     2. Con el evento\n",
    "tabla_1 = modelo.serie_x(data_or_path=eve, \n",
    "                         numero_registros=cantidad_datos, \n",
    "                         val_p=calibre_nodos)\n",
    "\n",
    "tabla_1.volatilidad('value', grupo_volatilidad)\n",
    "# print('serie_x:\\n', tabla_1)\n",
    "# Metodo para calcular la Serie Y\n",
    "tabla_2 = tabla_1.nodos()\n",
    "# print('serie_y:\\n', tabla_2)\n",
    "\n",
    "# # Generamos la Serie Z del evento, al igual qeu la Serie X sepuede hacer de dos formas:\n",
    "tabla_3 = modelo.serie_z(data_or_path=eve, \n",
    "                         numero_registros=cantidad_datos, \n",
    "                         val_p=calibre_nodos, \n",
    "                         val_r=val_agrupacion, \n",
    "                         boton=ind_agrupacion)\n",
    "# # Creamos en la tabla_3 la columna entropia y le asignamos el valor calculado.\n",
    "entropia = tabla_1.entropia_shannon(nombre_columna='value', grupo=grupo_entropia)\n",
    "entropia_global = tabla_1.entropia_shannon('value')\n",
    "masa = entropia/np.sum(entropia)\n",
    "print('entropia:', entropia_global)\n",
    "tabla_3['entropy'] = entropia\n",
    "tabla_3['mass'] = masa\n",
    "print('serie_z:\\n', tabla_3, type(tabla_3))\n",
    "\n",
    "# Exportamos la tabla_3 a .csv por comodidad, no es necesario\n",
    "tabla_3.to_csv('temp/tablas/serie_z.csv')\n",
    "\n"
   ]
  },
  {
   "cell_type": "code",
   "execution_count": null,
   "metadata": {},
   "outputs": [],
   "source": [
    "print(np.sum(masa))"
   ]
  },
  {
   "cell_type": "markdown",
   "metadata": {},
   "source": [
    "### Graficar resultados"
   ]
  },
  {
   "cell_type": "code",
   "execution_count": null,
   "metadata": {},
   "outputs": [],
   "source": [
    "from src.graphic_generator import pinta\n",
    "\n",
    "# pinta([tabla_1, tabla_3],[['value'],['viscosity', 'viscosity ABE']])\n",
    "pinta([tabla_1],[['value']])\n",
    "pinta([tabla_1],[['volatility_20']])\n",
    "pinta([tabla_3],[['density']])\n",
    "pinta([tabla_3],[['pressure']])\n",
    "pinta([tabla_3],[['subs visco']])\n",
    "pinta([tabla_3],[['velocity']])\n",
    "pinta([tabla_3],[['viscosity', 'viscosity ABE']])\n",
    "pinta(tablas=[tabla_3],columnas=[['mass']])"
   ]
  },
  {
   "cell_type": "markdown",
   "metadata": {},
   "source": [
    "# Analisis Multivariable"
   ]
  },
  {
   "cell_type": "code",
   "execution_count": 6,
   "metadata": {},
   "outputs": [],
   "source": [
    "# Cargamos y exportamos las tablas necesarias\n",
    "import src.analisis_modelizacion as modelo\n",
    "import numpy as np\n",
    "import os\n",
    "\n",
    "# Parametros a cumplimentar\n",
    "cantidad_datos = 200\n",
    "\n",
    "calibre_nodos = 0.002           # Valor para discriminar NODOS  (val_p)\n",
    "val_agrupacion = 25             # Valor para agrupar los datos en paquetes\n",
    "ind_agrupacion = 0              # 0 indica que val_r es el num de elementos de cada subgrupo, \n",
    "                                # 1 indica que val_r es el num de subgrupos. \n",
    "\n",
    "grupo_volatilidad = 20          # Valor a agrupar volatilidad \n",
    "\n",
    "lista_hojas_eventos = [\n",
    "                        'ejemplo1_evento1',\n",
    "                        'ejemplo1_evento2'\n",
    "                    ]\n",
    "ruta_del_archivo = './data/multi_variable.xlsx'\n",
    "lista_masas = np.array([0.0000972430641073838, 0.0000068571])\n",
    "lista_masas = lista_masas/lista_masas.sum()\n",
    "for  i, hoja_excel in enumerate(lista_hojas_eventos):\n",
    "    os.environ['nombre_evento'] = hoja_excel\n",
    "    # print(ruta_del_archivo, hoja_excel)\n",
    "    tabla_1 = modelo.serie_x(data_or_path=ruta_del_archivo, \n",
    "                            hoja=hoja_excel,\n",
    "                            numero_registros=cantidad_datos, \n",
    "                            val_p=calibre_nodos)\n",
    "    tabla_1.volatilidad('value', grupo_volatilidad)\n",
    "\n",
    "    tabla_3 = modelo.serie_z(data_or_path=tabla_1, \n",
    "                            numero_registros=cantidad_datos, \n",
    "                            val_p=calibre_nodos, \n",
    "                            val_r=val_agrupacion, \n",
    "                            boton=ind_agrupacion)\n",
    "    # # Creamos en la tabla_3 la columna entropia y le asignamos el valor calculado.\n",
    "    entropia = tabla_1.entropia_shannon(nombre_columna='value')[0]\n",
    "    pressure_mass = np.nanmean(tabla_3['pressure'])\n",
    "    viscosity_mass = np.nanmean(tabla_3['viscosity'])\n",
    "\n",
    "    masa = entropia*pressure_mass*viscosity_mass\n",
    "\n",
    "    tabla_3['mass'] = lista_masas[i]\n",
    "    \n",
    "    # tabla_3.drop(columns=['viscosity ABE', 'subs visco'])\n",
    "    # Exportamos la tabla_3 a .csv por comodidad, no es necesario\n",
    "    tabla_3.to_csv(f'temp/tablas/{hoja_excel}.csv')\n",
    "    # print(tabla_3)\n",
    "\n"
   ]
  },
  {
   "cell_type": "code",
   "execution_count": null,
   "metadata": {},
   "outputs": [],
   "source": [
    "import pandas as pd\n",
    "evento1 = pd.read_csv('./temp/tablas/ejemplo1_evento1.csv', index_col=0)\n",
    "evento2 = pd.read_csv('./temp/tablas/ejemplo1_evento2.csv', index_col=0)\n",
    "print(evento1,'\\n',evento2)\n",
    "\n",
    "# calculo1 = velocidad[i+1]-velocidad[i]+velocidad[i]*(diff_vel[i]/diff_val[i])+velocidad2[i]*(diff_vel[i]/diff_val2[i])"
   ]
  }
 ],
 "metadata": {
  "kernelspec": {
   "display_name": ".venv",
   "language": "python",
   "name": "python3"
  },
  "language_info": {
   "codemirror_mode": {
    "name": "ipython",
    "version": 3
   },
   "file_extension": ".py",
   "mimetype": "text/x-python",
   "name": "python",
   "nbconvert_exporter": "python",
   "pygments_lexer": "ipython3",
   "version": "3.10.12"
  }
 },
 "nbformat": 4,
 "nbformat_minor": 2
}
