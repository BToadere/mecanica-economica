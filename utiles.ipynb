{
 "cells": [
  {
   "cell_type": "code",
   "execution_count": 12,
   "metadata": {},
   "outputs": [],
   "source": [
    "diccionario = {\n",
    "    'G': 'densidad',\n",
    "    'H': 'diff_den',\n",
    "    'I': 'diff_val',\n",
    "    'J': 'velocidad',\n",
    "    'K': 'diff_vel',\n",
    "    'L': 'presion',\n",
    "    'M': 'diff_pres',\n",
    "    'N': 'viscosidad',\n",
    "    'O': 'calculo1',\n",
    "    'P': 'calculo2',\n",
    "    'Q': 'calculo3'\n",
    "}\n",
    "\n",
    "def traducir_formula_excel(formula_excel, nivel, diccionario):\n",
    "    partes_formula = formula_excel.split('[')\n",
    "    formula_traducida = partes_formula[0]\n",
    "    for parte in partes_formula[1:]:\n",
    "        caracter_nivel = ''\n",
    "        i = 0\n",
    "        while parte[i].isdigit():\n",
    "            caracter_nivel += parte[i]\n",
    "            i += 1\n",
    "        if caracter_nivel:\n",
    "            numero_nivel = int(caracter_nivel)\n",
    "            if numero_nivel == nivel:\n",
    "                traduccion = diccionario.get(parte[i], parte[i])\n",
    "                formula_traducida += f'[{traduccion}]' + parte[i+1:]\n",
    "            else:\n",
    "                formula_traducida += f'[{parte}]'\n",
    "        else:\n",
    "            formula_traducida += f'[{parte}]'\n",
    "    return formula_traducida"
   ]
  },
  {
   "cell_type": "code",
   "execution_count": 14,
   "metadata": {},
   "outputs": [
    {
     "name": "stdout",
     "output_type": "stream",
     "text": [
      "((O6+P6-Q6)*G6)/((((2*(I16*J6-(I16+I15)*J5+I15*J4)/(I16*I4*(I16+I15))))))\n"
     ]
    }
   ],
   "source": [
    "formula_excel = '((O6+P6-Q6)*G6)/((((2*(I16*J6-(I16+I15)*J5+I15*J4)/(I16*I4*(I16+I15))))))'\n",
    "formula_py = traducir_formula_excel(formula_excel, 6, diccionario)\n",
    "print(formula_py)"
   ]
  },
  {
   "cell_type": "markdown",
   "metadata": {},
   "source": [
    "velocidad[i+1]-velocidad[i]+velocidad[i]*(diff_vel[i]/diff_val[i])+velocidad2[i]*(diff_vel[i]/diff_val2[i])\n",
    "(Z/densidad6)*((diff_pres6/diff_val6)-(presion6/densidad6)*(diff_den6/diff_val6))\n",
    "(viscosidad6/densidad6)*(((2*(diff_val5*velocidad6-(diff_val5+diff_val4)*velocidad5+diff_val4*velocidad4)/(diff_val5*diff_val4*(diff_val5+diff_val4)))))\n",
    "((calculo16+calculo26-calculo36)*densidad6)/((((2*(diff_val16*velocidad6-(diff_val16+diff_val15)*velocidad5+diff_val15*velocidad4)/(diff_val16*diff_val4*(diff_val16+diff_val15))))))"
   ]
  },
  {
   "cell_type": "markdown",
   "metadata": {},
   "source": []
  }
 ],
 "metadata": {
  "kernelspec": {
   "display_name": ".venv",
   "language": "python",
   "name": "python3"
  },
  "language_info": {
   "codemirror_mode": {
    "name": "ipython",
    "version": 3
   },
   "file_extension": ".py",
   "mimetype": "text/x-python",
   "name": "python",
   "nbconvert_exporter": "python",
   "pygments_lexer": "ipython3",
   "version": "3.10.12"
  }
 },
 "nbformat": 4,
 "nbformat_minor": 2
}
